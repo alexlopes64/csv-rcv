{
 "cells": [
  {
   "cell_type": "code",
   "execution_count": null,
   "id": "87c5abcc-b68c-4b2e-875b-625c1ba3478e",
   "metadata": {},
   "outputs": [
    {
     "name": "stdin",
     "output_type": "stream",
     "text": [
      "Enter name of responses CSV (ensure it is located in the current directory):\n",
      " UCSB YDSA 2024 Elections (Responses) - Form Responses 1.csv\n",
      "Provide a comma-seperated list of the names of the positions, in the order that they occur in the responses CSV:\n",
      " Outreach Chair, Political Education Chair, Internal Affairs Chair, Co-Chair, Treasurer, Secretary, Labor Chair\n"
     ]
    },
    {
     "name": "stdout",
     "output_type": "stream",
     "text": [
      "You entered 7 positions. Does this look right?\n",
      " ['Outreach Chair', 'Political Education Chair', 'Internal Affairs Chair', 'Co-Chair', 'Treasurer', 'Secretary', 'Labor Chair']\n"
     ]
    },
    {
     "name": "stdin",
     "output_type": "stream",
     "text": [
      "y/n:  y\n",
      "What is the maximum number of choices a voter is allowed per position? (typically 3):\n",
      " 3\n",
      "Enter the number of rows to skip at the top of the CSV (typically at least 1, so that the row with the column names is skipped):\n",
      " 1\n",
      "Enter the number of columns to skip at the left of the CSV (typically at least 1, so the timestamp column is skipped, but usually more so that the dues verification responses are also skipped):\n",
      " 3\n"
     ]
    },
    {
     "name": "stdout",
     "output_type": "stream",
     "text": [
      "\n",
      "Starting election...\n"
     ]
    },
    {
     "name": "stdin",
     "output_type": "stream",
     "text": [
      "Enter the name of the position for which you wish to run an election:\n",
      " Outreach Chair\n"
     ]
    },
    {
     "name": "stdout",
     "output_type": "stream",
     "text": [
      "\n",
      "Now running election for Outreach Chair\n"
     ]
    },
    {
     "name": "stdin",
     "output_type": "stream",
     "text": [
      "Is this a multi-seat position (e.g. Co-Chair)? y/n:  n\n",
      "Would you like to ignore any candidates in this election? y/n:  n\n",
      "Would you like to provide any aliases for candidates (typically used for inconsistently spelled/capitalized write-in candidates)? y/n:  n\n"
     ]
    },
    {
     "name": "stdout",
     "output_type": "stream",
     "text": [
      "\n",
      "Ignored candidates: []\n",
      "Candidate aliases: {}\n",
      "FINAL RESULT\n",
      "Candidate           Votes  Status\n",
      "----------------  -------  --------\n",
      "Isabelle Prittie       20  Elected\n",
      "Ciara Johnson          11  Rejected\n",
      "Chase Franklin          0  Rejected\n",
      "Nate Behrendt           0  Rejected\n",
      "Joe Schmoe              0  Rejected\n",
      "\n"
     ]
    },
    {
     "name": "stdin",
     "output_type": "stream",
     "text": [
      "Proceed to next election? y/n:  y\n",
      "Enter the name of the position for which you wish to run an election:\n",
      " Political Education Chair\n"
     ]
    },
    {
     "name": "stdout",
     "output_type": "stream",
     "text": [
      "\n",
      "Now running election for Political Education Chair\n"
     ]
    },
    {
     "name": "stdin",
     "output_type": "stream",
     "text": [
      "Is this a multi-seat position (e.g. Co-Chair)? y/n:  n\n",
      "Would you like to ignore any candidates in this election? y/n:  n\n",
      "Would you like to provide any aliases for candidates (typically used for inconsistently spelled/capitalized write-in candidates)? y/n:  n\n"
     ]
    },
    {
     "name": "stdout",
     "output_type": "stream",
     "text": [
      "\n",
      "Ignored candidates: []\n",
      "Candidate aliases: {}\n",
      "FINAL RESULT\n",
      "Candidate        Votes  Status\n",
      "-------------  -------  --------\n",
      "Alex Lopes          16  Elected\n",
      "Eddie Schmidt       15  Rejected\n",
      "Nate Behrendt        0  Rejected\n",
      "Ephraim              0  Rejected\n",
      "\n"
     ]
    },
    {
     "name": "stdin",
     "output_type": "stream",
     "text": [
      "Proceed to next election? y/n:  y\n",
      "Enter the name of the position for which you wish to run an election:\n",
      " Internal Affairs Chair\n"
     ]
    },
    {
     "name": "stdout",
     "output_type": "stream",
     "text": [
      "\n",
      "Now running election for Internal Affairs Chair\n"
     ]
    },
    {
     "name": "stdin",
     "output_type": "stream",
     "text": [
      "Is this a multi-seat position (e.g. Co-Chair)? y/n:  n\n",
      "Would you like to ignore any candidates in this election? y/n:  n\n",
      "Would you like to provide any aliases for candidates (typically used for inconsistently spelled/capitalized write-in candidates)? y/n:  n\n"
     ]
    },
    {
     "name": "stdout",
     "output_type": "stream",
     "text": [
      "\n",
      "Ignored candidates: []\n",
      "Candidate aliases: {}\n",
      "FINAL RESULT\n",
      "Candidate           Votes  Status\n",
      "----------------  -------  --------\n",
      "Michael Collin         26  Elected\n",
      "Isabella Ferraro        5  Rejected\n",
      "Nate Behrendt           0  Rejected\n",
      "Ephraim                 0  Rejected\n",
      "\n"
     ]
    },
    {
     "name": "stdin",
     "output_type": "stream",
     "text": [
      "Proceed to next election? y/n:  y\n",
      "Enter the name of the position for which you wish to run an election:\n",
      " Co-Chair\n"
     ]
    },
    {
     "name": "stdout",
     "output_type": "stream",
     "text": [
      "\n",
      "Now running election for Co-Chair\n"
     ]
    },
    {
     "name": "stdin",
     "output_type": "stream",
     "text": [
      "Is this a multi-seat position (e.g. Co-Chair)? y/n:  y\n",
      "How many candidates can be elected to this position?:  2\n",
      "Would you like to ignore any candidates in this election? y/n:  n\n",
      "Would you like to provide any aliases for candidates (typically used for inconsistently spelled/capitalized write-in candidates)? y/n:  n\n"
     ]
    },
    {
     "name": "stdout",
     "output_type": "stream",
     "text": [
      "\n",
      "Ignored candidates: []\n",
      "Candidate aliases: {}\n",
      "ROUND 1\n",
      "Candidate           Votes  Status\n",
      "----------------  -------  --------\n",
      "Isabella Ferraro       15  Elected\n",
      "Ciara Johnson          10  Hopeful\n",
      "Clay Dau                6  Hopeful\n",
      "\n",
      "FINAL RESULT\n",
      "Candidate           Votes  Status\n",
      "----------------  -------  --------\n",
      "Isabella Ferraro    10.33  Elected\n",
      "Ciara Johnson       13.42  Elected\n",
      "Clay Dau             6.93  Rejected\n",
      "Blank Votes          0.31  Rejected\n",
      "\n"
     ]
    },
    {
     "name": "stdin",
     "output_type": "stream",
     "text": [
      "Proceed to next election? y/n:  y\n",
      "Enter the name of the position for which you wish to run an election:\n",
      " Treasurer\n"
     ]
    },
    {
     "name": "stdout",
     "output_type": "stream",
     "text": [
      "\n",
      "Now running election for Treasurer\n"
     ]
    },
    {
     "name": "stdin",
     "output_type": "stream",
     "text": [
      "Is this a multi-seat position (e.g. Co-Chair)? y/n:  n\n",
      "Would you like to ignore any candidates in this election? y/n:  n\n",
      "Would you like to provide any aliases for candidates (typically used for inconsistently spelled/capitalized write-in candidates)? y/n:  n\n"
     ]
    },
    {
     "name": "stdout",
     "output_type": "stream",
     "text": [
      "\n",
      "Ignored candidates: []\n",
      "Candidate aliases: {}\n",
      "FINAL RESULT\n",
      "Candidate        Votes  Status\n",
      "-------------  -------  --------\n",
      "Zac Sherar          26  Elected\n",
      "Sofia Casano         5  Rejected\n",
      "Nate Behrendt        0  Rejected\n",
      "Ephraim              0  Rejected\n",
      "\n"
     ]
    },
    {
     "name": "stdin",
     "output_type": "stream",
     "text": [
      "Proceed to next election? y/n:  y\n",
      "Enter the name of the position for which you wish to run an election:\n",
      " Secretary\n"
     ]
    },
    {
     "name": "stdout",
     "output_type": "stream",
     "text": [
      "\n",
      "Now running election for Secretary\n"
     ]
    },
    {
     "name": "stdin",
     "output_type": "stream",
     "text": [
      "Is this a multi-seat position (e.g. Co-Chair)? y/n:  n\n",
      "Would you like to ignore any candidates in this election? y/n:  n\n",
      "Would you like to provide any aliases for candidates (typically used for inconsistently spelled/capitalized write-in candidates)? y/n:  n\n"
     ]
    },
    {
     "name": "stdout",
     "output_type": "stream",
     "text": [
      "\n",
      "Ignored candidates: []\n",
      "Candidate aliases: {}\n",
      "FINAL RESULT\n",
      "Candidate        Votes  Status\n",
      "-------------  -------  --------\n",
      "Sofia Casano        29  Elected\n",
      "Zac Sherar           2  Rejected\n",
      "Nate Behrendt        0  Rejected\n",
      "\n"
     ]
    },
    {
     "name": "stdin",
     "output_type": "stream",
     "text": [
      "Proceed to next election? y/n:  y\n",
      "Enter the name of the position for which you wish to run an election:\n",
      " Labor Chair\n"
     ]
    },
    {
     "name": "stdout",
     "output_type": "stream",
     "text": [
      "\n",
      "Now running election for Labor Chair\n"
     ]
    },
    {
     "name": "stdin",
     "output_type": "stream",
     "text": [
      "Is this a multi-seat position (e.g. Co-Chair)? y/n:  n\n",
      "Would you like to ignore any candidates in this election? y/n:  n\n",
      "Would you like to provide any aliases for candidates (typically used for inconsistently spelled/capitalized write-in candidates)? y/n:  n\n"
     ]
    },
    {
     "name": "stdout",
     "output_type": "stream",
     "text": [
      "\n",
      "Ignored candidates: []\n",
      "Candidate aliases: {}\n",
      "FINAL RESULT\n",
      "Candidate           Votes  Status\n",
      "----------------  -------  --------\n",
      "Clay Dau               24  Elected\n",
      "Michael Collin          5  Rejected\n",
      "Isabelle Prittie        2  Rejected\n",
      "\n"
     ]
    }
   ],
   "source": [
    "import pyrankvote\n",
    "from pyrankvote import Candidate, Ballot\n",
    "import csv\n",
    "import time\n",
    "\n",
    "def run_election(votes_path, vote_columns_range, skip_rows_range, type=\"rcv\", number_of_seats=2, ignored_candidates=[], candidate_aliases={}):\n",
    "    candidates = {}\n",
    "    ballots = []\n",
    "    \n",
    "    with open(votes_path, newline='') as csvfile:\n",
    "        responses = csv.reader(csvfile, delimiter=',', quotechar='\"')\n",
    "        \n",
    "        for x in skip_rows_range:\n",
    "            next(responses);\n",
    "            \n",
    "        for row in responses:\n",
    "            candidates_to_add = []\n",
    "            for i in vote_columns_range:\n",
    "                candidate_to_add = row[i].strip()\n",
    "                \n",
    "                if candidate_to_add: #if vote is not empty\n",
    "                    if candidate_to_add in candidate_aliases: #if there exists an alias for this candidate\n",
    "                        candidate_to_add = candidate_aliases[candidate_to_add] #set the candidate name as per the alias\n",
    "                    if candidate_to_add not in ignored_candidates: #if this candidate is not ignored\n",
    "                        if candidate_to_add not in candidates: #if there does not yet exist a Candidate object for this candidate\n",
    "                            candidates[candidate_to_add] = Candidate(candidate_to_add) #create a Candidate object for this candidate\n",
    "                        if candidates[candidate_to_add] not in candidates_to_add: #if this voter has not already chosen this candidate for a higher-priority choice\n",
    "                            candidates_to_add.append(candidates[candidate_to_add]) #add this candidate to the list of candidates for this ballot\n",
    "            if candidates_to_add: #if not all choices are empty\n",
    "                #print(candidates_to_add)\n",
    "                ballots.append(Ballot(ranked_candidates=candidates_to_add)) #add this voter's ballot to the list of ballots\n",
    "                \n",
    "        #print(candidates)\n",
    "        \n",
    "        candidates_list = []\n",
    "        for i in candidates:\n",
    "            candidates_list.append(candidates[i])\n",
    "        if type==\"rcv\":\n",
    "            result = pyrankvote.instant_runoff_voting(candidates_list, ballots)\n",
    "        elif type==\"stv\":\n",
    "            result = pyrankvote.single_transferable_vote(candidates_list, ballots, number_of_seats)\n",
    "        print(result)\n",
    "\n",
    "\n",
    "path = input(\"Enter name of responses CSV (ensure it is located in the current directory):\\n\")\n",
    "with open(path, newline='') as csvfile:\n",
    "    responses = csv.reader(csvfile, delimiter=',', quotechar='\"')\n",
    "while(True):\n",
    "    list_of_positions = input(\"Provide a comma-seperated list of the names of the positions, in the order that they occur in the responses CSV:\\n\")\n",
    "    list_of_positions = [i.strip() for i in list_of_positions.split(',')]\n",
    "    print(\"You entered\",len(list_of_positions),\"positions. Does this look right?\\n\", list_of_positions)\n",
    "    if input(\"y/n: \") == 'y':\n",
    "        break\n",
    "max_choices = int(input(\"What is the maximum number of choices a voter is allowed per position? (typically 3):\\n\"))\n",
    "skipped_rows = int(input(\"Enter the number of rows to skip at the top of the CSV (typically at least 1, so that the row with the column names is skipped):\\n\"))\n",
    "skipped_columns = int(input(\"Enter the number of columns to skip at the left of the CSV (typically at least 1, so the timestamp column is skipped, but usually more so that the dues verification responses are also skipped):\\n\"))\n",
    "\n",
    "print(\"\\nStarting election...\")\n",
    "time.sleep(1)\n",
    "\n",
    "while(True):    \n",
    "    current_position = input(\"Enter the name of the position for which you wish to run an election:\\n\")\n",
    "    election_counter = list_of_positions.index(current_position)\n",
    "    while(True):\n",
    "        print(\"\\nNow running election for \" + current_position)\n",
    "        \n",
    "        if input(\"Is this a multi-seat position (e.g. Co-Chair)? y/n: \") == 'y':\n",
    "            election_type = \"stv\"\n",
    "            number_of_positions = int(input(\"How many candidates can be elected to this position?: \"))\n",
    "        else:\n",
    "            election_type = \"rcv\"\n",
    "            number_of_positions = 1;\n",
    "            \n",
    "        if input(\"Would you like to ignore any candidates in this election? y/n: \") == 'y':\n",
    "            ignored = input(\"Provide a comma-seperated list of the names of the candidates you wish to ignore:\\n\")\n",
    "            ignored = [i.strip() for i in ignored.split(',')]\n",
    "        else:\n",
    "            ignored = []\n",
    "            \n",
    "        if input(\"Would you like to provide any aliases for candidates (typically used for inconsistently spelled/capitalized write-in candidates)? y/n: \") == 'y':\n",
    "            aliases = {}\n",
    "            while(True):\n",
    "                incorrect = input(\"Enter a name as it is spelled on one or more ballots:\\n\")\n",
    "                correct = input(\"Enter the name of the candidate you wish to alias the previous name to:\\n\")\n",
    "                aliases[incorrect] = correct\n",
    "                if input(\"Would you like to enter more aliases? y/n: \") != 'y':\n",
    "                    break\n",
    "        else:\n",
    "            aliases = {}\n",
    "            \n",
    "        print();\n",
    "        print(\"Ignored candidates:\", ignored)\n",
    "        print(\"Candidate aliases:\", aliases)\n",
    "        run_election(path, range(skipped_columns+election_counter*max_choices,skipped_columns+election_counter*max_choices+max_choices), range(0,skipped_rows), type=election_type, number_of_seats=number_of_positions, ignored_candidates=ignored, candidate_aliases=aliases)\n",
    "        \n",
    "        if input(\"Proceed to next election? y/n: \") == \"y\":\n",
    "            break;\n",
    "    "
   ]
  },
  {
   "cell_type": "code",
   "execution_count": null,
   "id": "30513a7a-540c-4c00-87f7-0203bfb87e5a",
   "metadata": {},
   "outputs": [],
   "source": []
  }
 ],
 "metadata": {
  "kernelspec": {
   "display_name": "Python 3 (ipykernel)",
   "language": "python",
   "name": "python3"
  },
  "language_info": {
   "codemirror_mode": {
    "name": "ipython",
    "version": 3
   },
   "file_extension": ".py",
   "mimetype": "text/x-python",
   "name": "python",
   "nbconvert_exporter": "python",
   "pygments_lexer": "ipython3",
   "version": "3.12.1"
  }
 },
 "nbformat": 4,
 "nbformat_minor": 5
}
