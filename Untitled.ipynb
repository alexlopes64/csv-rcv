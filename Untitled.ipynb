{
 "cells": [
  {
   "cell_type": "code",
   "execution_count": 1,
   "id": "894a0d62-a73c-4a34-8f44-04e9e1c4cfe2",
   "metadata": {},
   "outputs": [
    {
     "data": {
      "text/plain": [
       "array([-1.04995006e+02+3162.43165165j, -1.04995006e+02-3162.43165165j,\n",
       "       -9.98801648e-03   +0.j        ])"
      ]
     },
     "execution_count": 1,
     "metadata": {},
     "output_type": "execute_result"
    }
   ],
   "source": [
    "import numpy as np\n",
    "\n",
    "# Define K\n",
    "K = 1  # Replace with the specific value of K you are interested in\n",
    "\n",
    "# Coefficients of the cubic equation\n",
    "a = 0.00001\n",
    "b = 0.0021\n",
    "c = 0.12 + 100 * K\n",
    "d = 1\n",
    "\n",
    "# Create the coefficient array\n",
    "coefficients = [a, b, c, d]\n",
    "\n",
    "# Find the roots\n",
    "roots = np.roots(coefficients)\n",
    "roots\n"
   ]
  },
  {
   "cell_type": "code",
   "execution_count": null,
   "id": "62ef69eb-d261-47ce-9ec3-341ec76c36c5",
   "metadata": {},
   "outputs": [],
   "source": []
  }
 ],
 "metadata": {
  "kernelspec": {
   "display_name": "Python 3 (ipykernel)",
   "language": "python",
   "name": "python3"
  },
  "language_info": {
   "codemirror_mode": {
    "name": "ipython",
    "version": 3
   },
   "file_extension": ".py",
   "mimetype": "text/x-python",
   "name": "python",
   "nbconvert_exporter": "python",
   "pygments_lexer": "ipython3",
   "version": "3.12.1"
  }
 },
 "nbformat": 4,
 "nbformat_minor": 5
}
