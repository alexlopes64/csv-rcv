{
 "cells": [
  {
   "cell_type": "code",
   "execution_count": null,
   "id": "8849bda0-13e1-43eb-af7b-2831aa64cae2",
   "metadata": {},
   "outputs": [],
   "source": [
    "import numpy as np\n",
    "import matplotlib as plt\n",
    "import csv\n",
    "\n",
    "with open(filename) as file:\n",
    "    lines = [line.rstrip() for line in file]\n",
    "\n",
    "plt.hist(lines, normed=True, cumulative=True, label='CDF', histtype='step', alpha=0.8, color='k')"
   ]
  }
 ],
 "metadata": {
  "kernelspec": {
   "display_name": "Python 3 (ipykernel)",
   "language": "python",
   "name": "python3"
  },
  "language_info": {
   "codemirror_mode": {
    "name": "ipython",
    "version": 3
   },
   "file_extension": ".py",
   "mimetype": "text/x-python",
   "name": "python",
   "nbconvert_exporter": "python",
   "pygments_lexer": "ipython3",
   "version": "3.12.1"
  }
 },
 "nbformat": 4,
 "nbformat_minor": 5
}
